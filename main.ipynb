{
 "cells": [
  {
   "cell_type": "code",
   "execution_count": 5,
   "id": "d1124d98",
   "metadata": {},
   "outputs": [],
   "source": [
    "import asyncio\n",
    "import json\n",
    "import re\n",
    "from google.adk.runners import Runner\n",
    "from google.genai import types\n",
    "from google.adk.sessions import InMemorySessionService\n",
    "from dotenv import load_dotenv\n",
    "\n",
    "# Import the fully assembled root agent from our coordinator module\n",
    "from agents.coordinator import root_agent\n",
    "\n",
    "# Use a shared session service for the application\n",
    "session_service = InMemorySessionService()\n",
    "\n",
    "from tools.code_analysis_tools import analyze_code_structure"
   ]
  },
  {
   "cell_type": "code",
   "execution_count": 4,
   "id": "2bdedfea",
   "metadata": {},
   "outputs": [],
   "source": [
    "# 1. Load the source code we want to test\n",
    "try:\n",
    "    with open(\"sample_code.py\", \"r\") as f:\n",
    "        source_code_to_test = f.read()\n",
    "except FileNotFoundError:\n",
    "    print(\"Error: `sample_code.py` not found. Please ensure the file exists.\")\n",
    "    "
   ]
  },
  {
   "cell_type": "code",
   "execution_count": 6,
   "id": "aeb542cc",
   "metadata": {},
   "outputs": [],
   "source": [
    "# 2. Instantiate the ADK Runner with our master agent\n",
    "# We pass the shared session_service instance here.\n",
    "runner = Runner(\n",
    "    app_name=\"autotest_suite_generator\",\n",
    "    agent=root_agent,\n",
    "    session_service=session_service\n",
    ")"
   ]
  },
  {
   "cell_type": "code",
   "execution_count": 7,
   "id": "36e09cb9",
   "metadata": {},
   "outputs": [],
   "source": [
    "# 3. Create a session for this run\n",
    "session = await runner.session_service.create_session(\n",
    "    app_name=\"autotest_suite_generator\",\n",
    "    user_id=\"end_user\"\n",
    ")"
   ]
  },
  {
   "cell_type": "code",
   "execution_count": 8,
   "id": "0b21fa62",
   "metadata": {},
   "outputs": [
    {
     "name": "stdout",
     "output_type": "stream",
     "text": [
      "\n",
      "[USER REQUEST] Generating tests for:\n",
      "---\n",
      "\"\"\"A sample module for demonstration.\"\"\"\n",
      "\n",
      "class Calculator:\n",
      "    \"\"\"A simple calculator class.\"\"\"\n",
      "    \n",
      "    def add(self, a: int, b: int) -> int:\n",
      "        \"\"\"Adds two numbers together.\"\"\"\n",
      "        return a + b\n",
      "\n",
      "def greet(name: str) -> str:\n",
      "    \"\"\"Returns a greeting message.\"\"\"\n",
      "    return f\"Hello, {name}\"\n",
      "---\n",
      "\n"
     ]
    }
   ],
   "source": [
    "# 4. Format the initial user request as a JSON object\n",
    "# The `initialize_state` callback on our root agent will parse this.\n",
    "initial_request = json.dumps({\n",
    "    \"source_code\": source_code_to_test,\n",
    "    \"language\": \"python\"\n",
    "})\n",
    "\n",
    "print(f\"\\n[USER REQUEST] Generating tests for:\\n---\\n{source_code_to_test}\\n---\\n\")\n",
    "\n",
    "user_message = types.Content(\n",
    "    role=\"user\",\n",
    "    parts=[types.Part(text=initial_request)]\n",
    ")"
   ]
  },
  {
   "cell_type": "code",
   "execution_count": 9,
   "id": "98863216",
   "metadata": {},
   "outputs": [
    {
     "data": {
      "text/plain": [
       "{'status': 'success',\n",
       " 'structure': [{'type': 'class',\n",
       "   'name': 'Calculator',\n",
       "   'docstring': 'A simple calculator class.',\n",
       "   'methods': [{'name': 'add',\n",
       "     'docstring': 'Adds two numbers together.',\n",
       "     'parameters': [{'name': 'self', 'annotation': None},\n",
       "      {'name': 'a', 'annotation': 'int'},\n",
       "      {'name': 'b', 'annotation': 'int'}],\n",
       "     'return_type': 'int'}]},\n",
       "  {'name': 'greet',\n",
       "   'docstring': 'Returns a greeting message.',\n",
       "   'parameters': [{'name': 'name', 'annotation': 'str'}],\n",
       "   'return_type': 'str',\n",
       "   'type': 'function'}]}"
      ]
     },
     "execution_count": 9,
     "metadata": {},
     "output_type": "execute_result"
    }
   ],
   "source": [
    "analyze_code_structure(source_code_to_test, 'python')"
   ]
  },
  {
   "cell_type": "code",
   "execution_count": null,
   "id": "210df48a",
   "metadata": {},
   "outputs": [],
   "source": []
  },
  {
   "cell_type": "code",
   "execution_count": null,
   "id": "e12b4427",
   "metadata": {},
   "outputs": [],
   "source": []
  },
  {
   "cell_type": "code",
   "execution_count": null,
   "id": "ae8baa2d",
   "metadata": {},
   "outputs": [],
   "source": []
  },
  {
   "cell_type": "code",
   "execution_count": null,
   "id": "81ebe908",
   "metadata": {},
   "outputs": [],
   "source": []
  },
  {
   "cell_type": "code",
   "execution_count": null,
   "id": "ef268da2",
   "metadata": {},
   "outputs": [],
   "source": []
  },
  {
   "cell_type": "code",
   "execution_count": null,
   "id": "76a7948f",
   "metadata": {},
   "outputs": [],
   "source": []
  },
  {
   "cell_type": "code",
   "execution_count": null,
   "id": "ba4b9320",
   "metadata": {},
   "outputs": [],
   "source": []
  }
 ],
 "metadata": {
  "kernelspec": {
   "display_name": "hackathon",
   "language": "python",
   "name": "python3"
  },
  "language_info": {
   "codemirror_mode": {
    "name": "ipython",
    "version": 3
   },
   "file_extension": ".py",
   "mimetype": "text/x-python",
   "name": "python",
   "nbconvert_exporter": "python",
   "pygments_lexer": "ipython3",
   "version": "3.12.11"
  }
 },
 "nbformat": 4,
 "nbformat_minor": 5
}
